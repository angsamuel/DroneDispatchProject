{
 "cells": [
  {
   "cell_type": "code",
   "execution_count": 58,
   "metadata": {},
   "outputs": [],
   "source": [
    "# this is where our code will come together\n",
    "import pandas as pd\n",
    "pd_ver = pd.__version__"
   ]
  },
  {
   "cell_type": "code",
   "execution_count": 59,
   "metadata": {},
   "outputs": [],
   "source": [
    "%run scenario_gen/test.py"
   ]
  },
  {
   "cell_type": "code",
   "execution_count": 60,
   "metadata": {},
   "outputs": [],
   "source": [
    "def generate_dataframe(request_list, listOfPickupsAndDropoffs):\n",
    "    '''\n",
    "    This function pulls out the relevant data for out calculations and stores them in a pandas dataframe.\n",
    "    Parameters: \n",
    "        request_list                - list of initial requests for packages by the customers\n",
    "        listOfPickupsAndDropoffs    - list of pickup and dropoff times logged by the solver\n",
    "    Returns:\n",
    "        df                          - a pandas dataframe containing:\n",
    "                                        * timestamp the package was ordered\n",
    "                                        * timestamp the packages was delivered\n",
    "                                        * wait time for the package from time ordered\n",
    "    '''\n",
    "    # Pull out only the data we're concerned with for analysis\n",
    "    job_starts = [(x[0], x[3]) for x in request_list]\n",
    "    job_completions = [(x[1],x[2]) for x in listOfPickupsAndDropoffs[0][1::2]]\n",
    "    df = pd.DataFrame.from_dict({x[0][0]: (x[1][1],x[0][1]) for x in zip(job_completions,job_starts)}\\\n",
    "        , orient='index',     columns=['Arrival Time', 'Delivery Time'])\n",
    "    df.index.name = 'Package ID'\n",
    "    df['Wait Time'] = df['Delivery Time'] - df['Arrival Time']\n",
    "    return df\n",
    "    \n",
    "def evaluate_trial(df, trial_num):\n",
    "    '''\n",
    "    This function evaluates a single trial by calculating metrics and returning\n",
    "    them as data in a dictionary entry keyed by the trial number\n",
    "    '''\n",
    "    average_wait_time = df['Wait Time'].mean()\n",
    "    return {trial_num : (average_wait_time)}\n",
    "\n",
    "def run_trials(num_trials = 10):\n",
    "    '''\n",
    "    Runs trials.\n",
    "    Returns pandas dataframe of wait time by trial number.\n",
    "    '''\n",
    "    trials = {}\n",
    "    #Run num_trials trials and store in dictionary\n",
    "    for trial_num in range(num_trials):\n",
    "        (request_list, listOfPickupsAndDropoffs) = run_test(print_trace=False)\n",
    "        df = generate_dataframe(request_list, listOfPickupsAndDropoffs)\n",
    "        trials.update(evaluate_trial(df, trial_num))\n",
    "\n",
    "    df_trials = pd.DataFrame.from_dict(trials, orient='index', columns=['Mean Wait Time'])\n",
    "    df_trials.index.name = 'Trial #'\n",
    "    return df_trials\n",
    "\n",
    "def evaluate_batch(num_trials=10):\n",
    "    '''\n",
    "    This function will run a batch of num_trials trials. It will print out the average wait times for each trial\n",
    "    and the overall average wait time across all batches.\n",
    "    Note:\n",
    "        Pandas version 1.0.0 and later have a new to_markdown function. \n",
    "        I've included this check for automatic running in earlier packages.\n",
    "    '''\n",
    "    df_trials = run_trials(num_trials)\n",
    "    if pd_ver[0] != '1':\n",
    "            print(df)\n",
    "    else:\n",
    "        print(df_trials.to_markdown())\n",
    "    print('\\nTotal Average wait time across {0} trials : {1:.6}'.format( num_trials, df_trials['Mean Wait Time'].mean() ))    "
   ]
  },
  {
   "cell_type": "code",
   "execution_count": 62,
   "metadata": {},
   "outputs": [
    {
     "output_type": "stream",
     "name": "stdout",
     "text": "|   Trial # |   Mean Wait Time |\n|----------:|-----------------:|\n|         0 |         14.6655  |\n|         1 |         15.0986  |\n|         2 |         18.1938  |\n|         3 |         20.7325  |\n|         4 |         13.8868  |\n|         5 |         27.9268  |\n|         6 |         13.3179  |\n|         7 |         17.3391  |\n|         8 |         14.261   |\n|         9 |          9.36816 |\n\nTotal Average wait time across 10 trials : 16.479\n"
    }
   ],
   "source": [
    "evaluate_batch()"
   ]
  },
  {
   "cell_type": "code",
   "execution_count": null,
   "metadata": {},
   "outputs": [],
   "source": []
  }
 ],
 "metadata": {
  "kernelspec": {
   "display_name": "Python 3.7.1 64-bit ('anaconda3': conda)",
   "language": "python",
   "name": "python37164bitanaconda3condadeab8d4b1ac9403a8fef05156c2c0ad0"
  },
  "language_info": {
   "codemirror_mode": {
    "name": "ipython",
    "version": 3
   },
   "file_extension": ".py",
   "mimetype": "text/x-python",
   "name": "python",
   "nbconvert_exporter": "python",
   "pygments_lexer": "ipython3",
   "version": "3.7.1-final"
  }
 },
 "nbformat": 4,
 "nbformat_minor": 4
}